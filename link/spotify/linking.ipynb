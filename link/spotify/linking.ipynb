{
 "cells": [
  {
   "cell_type": "code",
   "execution_count": 23,
   "metadata": {},
   "outputs": [],
   "source": [
    "import pandas as pd"
   ]
  },
  {
   "cell_type": "code",
   "execution_count": 24,
   "metadata": {},
   "outputs": [],
   "source": [
    "df = pd.read_csv(\"whole_quarter_cities_venues.csv\")\n",
    "df.drop_duplicates(inplace=True)"
   ]
  },
  {
   "cell_type": "markdown",
   "metadata": {},
   "source": [
    "Attraction name = artist(s), format of artist|artist, split so that matching can happen\n",
    "expand df such that each row contains only 1 artist, event id + artist will be the primary key"
   ]
  },
  {
   "cell_type": "code",
   "execution_count": 25,
   "metadata": {},
   "outputs": [],
   "source": [
    "exploded_series = df['ATTRACTION_NAME'].str.split('|').explode()\n",
    "df_expanded = df.reindex(exploded_series.index)\n",
    "df_expanded['individual_artist'] = exploded_series.str.lower()"
   ]
  },
  {
   "cell_type": "code",
   "execution_count": 26,
   "metadata": {},
   "outputs": [
    {
     "data": {
      "text/plain": [
       "Index(['id', 'name', 'artist_popularity', 'artist_genres', 'followers',\n",
       "       'genre_0', 'genre_1', 'genre_2', 'genre_3', 'genre_4', 'genre_5',\n",
       "       'genre_6'],\n",
       "      dtype='object')"
      ]
     },
     "execution_count": 26,
     "metadata": {},
     "output_type": "execute_result"
    }
   ],
   "source": [
    "spotify_df = pd.read_csv(\"spotify_artist_data_2023.csv\")\n",
    "spotify_df.columns"
   ]
  },
  {
   "cell_type": "markdown",
   "metadata": {},
   "source": [
    "popularity score assigned to concert is popularity of most popular artist"
   ]
  },
  {
   "cell_type": "code",
   "execution_count": 27,
   "metadata": {},
   "outputs": [
    {
     "data": {
      "text/plain": [
       "(823, 47)"
      ]
     },
     "execution_count": 27,
     "metadata": {},
     "output_type": "execute_result"
    }
   ],
   "source": [
    "spotify_df[\"lower_name\"] = spotify_df[\"name\"].str.lower()\n",
    "merged = df_expanded.merge(spotify_df, how=\"inner\", left_on=\"individual_artist\", right_on=\"lower_name\")\n",
    "just_popular = merged[[\"EVENT_ID\", \"artist_popularity\"]].groupby(\"EVENT_ID\").max()\n",
    "df_with_popularity = merged.merge(\n",
    "    just_popular, \n",
    "    how=\"inner\", \n",
    "    left_on=[\"EVENT_ID\", \"artist_popularity\"],\n",
    "    right_on=[\"EVENT_ID\", \"artist_popularity\"]\n",
    ")\n",
    "df_with_popularity.shape"
   ]
  },
  {
   "cell_type": "code",
   "execution_count": 30,
   "metadata": {},
   "outputs": [],
   "source": [
    "df_with_popularity.to_csv(\"823rows.csv\")"
   ]
  },
  {
   "cell_type": "code",
   "execution_count": null,
   "metadata": {},
   "outputs": [],
   "source": []
  }
 ],
 "metadata": {
  "kernelspec": {
   "display_name": "Python 3",
   "language": "python",
   "name": "python3"
  },
  "language_info": {
   "codemirror_mode": {
    "name": "ipython",
    "version": 3
   },
   "file_extension": ".py",
   "mimetype": "text/x-python",
   "name": "python",
   "nbconvert_exporter": "python",
   "pygments_lexer": "ipython3",
   "version": "3.10.1"
  }
 },
 "nbformat": 4,
 "nbformat_minor": 2
}
