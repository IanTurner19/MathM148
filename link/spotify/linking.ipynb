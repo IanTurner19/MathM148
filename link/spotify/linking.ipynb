{
 "cells": [
  {
   "cell_type": "code",
   "execution_count": 85,
   "metadata": {},
   "outputs": [],
   "source": [
    "import pandas as pd"
   ]
  },
  {
   "cell_type": "code",
   "execution_count": 86,
   "metadata": {},
   "outputs": [],
   "source": [
    "df = pd.read_csv(\"whole_quarter_cities_venues.csv\")\n",
    "df.drop_duplicates(inplace=True)"
   ]
  },
  {
   "cell_type": "markdown",
   "metadata": {},
   "source": [
    "Attraction name = artist(s), format of artist|artist, split so that matching can happen\n",
    "expand df such that each row contains only 1 artist, event id + artist will be the primary key"
   ]
  },
  {
   "cell_type": "code",
   "execution_count": 87,
   "metadata": {},
   "outputs": [],
   "source": [
    "exploded_series = df['ATTRACTION_NAME'].str.split('|').explode()\n",
    "df_expanded = df.reindex(exploded_series.index)\n",
    "df_expanded['individual_artist'] = exploded_series.str.lower()"
   ]
  },
  {
   "cell_type": "code",
   "execution_count": 88,
   "metadata": {},
   "outputs": [
    {
     "data": {
      "text/plain": [
       "Index(['id', 'name', 'artist_popularity', 'artist_genres', 'followers',\n",
       "       'genre_0', 'genre_1', 'genre_2', 'genre_3', 'genre_4', 'genre_5',\n",
       "       'genre_6'],\n",
       "      dtype='object')"
      ]
     },
     "execution_count": 88,
     "metadata": {},
     "output_type": "execute_result"
    }
   ],
   "source": [
    "spotify_df = pd.read_csv(\"spotify_artist_data_2023.csv\")\n",
    "spotify_df.columns"
   ]
  },
  {
   "cell_type": "markdown",
   "metadata": {},
   "source": [
    "popularity score assigned to concert is popularity of most popular artist"
   ]
  },
  {
   "cell_type": "code",
   "execution_count": 89,
   "metadata": {},
   "outputs": [],
   "source": [
    "spotify_df[\"lower_name\"] = spotify_df[\"name\"].str.lower()\n",
    "merged = df_expanded.merge(spotify_df, how=\"left\", left_on=\"individual_artist\", right_on=\"lower_name\")\n",
    "just_popular = merged[[\"EVENT_ID\", \"artist_popularity\"]].groupby(\"EVENT_ID\").max()\n",
    "df_with_popularity = merged.merge(\n",
    "    just_popular, \n",
    "    how=\"inner\", \n",
    "    left_on=[\"EVENT_ID\", \"artist_popularity\"],\n",
    "    right_on=[\"EVENT_ID\", \"artist_popularity\"]\n",
    ")"
   ]
  },
  {
   "cell_type": "markdown",
   "metadata": {},
   "source": [
    "Get the cities with missing population"
   ]
  },
  {
   "cell_type": "code",
   "execution_count": 90,
   "metadata": {},
   "outputs": [],
   "source": [
    "full_cities_df = pd.read_csv(\"whole_quarter+cities2.csv\")[[\"EVENT_ID\", \"population\"]]\n",
    "popularity_and_cities = df_with_popularity.merge(full_cities_df, how=\"inner\", left_on=\"EVENT_ID\", right_on=\"EVENT_ID\")\n",
    "popularity_and_cities[\"population\"] = popularity_and_cities[\"population_y\"]"
   ]
  },
  {
   "cell_type": "markdown",
   "metadata": {},
   "source": [
    "missing artists fill in"
   ]
  },
  {
   "cell_type": "code",
   "execution_count": 91,
   "metadata": {},
   "outputs": [],
   "source": [
    "missing_artists_df = pd.read_csv(\"output.csv\").drop_duplicates()\n",
    "missing_artists_df[\"lower_artist_name\"] = missing_artists_df[\"artist_name\"].str.lower()\n",
    "have_popularity = missing_artists_df[missing_artists_df[\"scraped_popularity\"] != -1]\n",
    "final = popularity_and_cities.merge(\n",
    "    have_popularity, \n",
    "    how=\"inner\", \n",
    "    left_on=\"individual_artist\", \n",
    "    right_on=\"lower_artist_name\"\n",
    ")"
   ]
  },
  {
   "cell_type": "code",
   "execution_count": 92,
   "metadata": {},
   "outputs": [
    {
     "data": {
      "text/plain": [
       "(3668, 53)"
      ]
     },
     "execution_count": 92,
     "metadata": {},
     "output_type": "execute_result"
    }
   ],
   "source": [
    "final.shape"
   ]
  },
  {
   "cell_type": "code",
   "execution_count": 93,
   "metadata": {},
   "outputs": [],
   "source": [
    "final[\"artist_popularity\"] = final[\"artist_popularity\"].fillna(final[\"scraped_popularity\"])\n",
    "final.drop_duplicates(inplace=True)"
   ]
  },
  {
   "cell_type": "code",
   "execution_count": 94,
   "metadata": {},
   "outputs": [],
   "source": [
    "final.to_csv(\"final.csv\")"
   ]
  },
  {
   "cell_type": "code",
   "execution_count": null,
   "metadata": {},
   "outputs": [],
   "source": []
  }
 ],
 "metadata": {
  "kernelspec": {
   "display_name": "Python 3",
   "language": "python",
   "name": "python3"
  },
  "language_info": {
   "codemirror_mode": {
    "name": "ipython",
    "version": 3
   },
   "file_extension": ".py",
   "mimetype": "text/x-python",
   "name": "python",
   "nbconvert_exporter": "python",
   "pygments_lexer": "ipython3",
   "version": "3.10.1"
  }
 },
 "nbformat": 4,
 "nbformat_minor": 2
}
