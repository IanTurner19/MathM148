{
  "cells": [
    {
      "cell_type": "markdown",
      "metadata": {
        "id": "kIJkRYlCo2FP"
      },
      "source": [
        "# Initial Modeling with Final Data"
      ]
    },
    {
      "cell_type": "code",
      "execution_count": null,
      "metadata": {
        "id": "aE72hOigo2FY"
      },
      "outputs": [],
      "source": [
        "import pandas as pd\n",
        "\n",
        "# Read in the full dataset\n",
        "df = pd.read_csv('full_data.csv')\n"
      ]
    },
    {
      "cell_type": "markdown",
      "metadata": {
        "id": "K3QAFm7lo2Fa"
      },
      "source": [
        "## Pre-processing"
      ]
    },
    {
      "cell_type": "code",
      "execution_count": null,
      "metadata": {
        "id": "riZyNhs6o2Fb"
      },
      "outputs": [],
      "source": [
        "# Drop unnecessary columns\n",
        "df = df.drop(['Unnamed..0', 'EVENT_ID', 'ATTRACTION_ID', 'city', 'TRANSACTABLE', 'id',\n",
        "              'CLASSIFICATION_TYPE', 'CLASSIFICATION_SUB_TYPE', 'artist_genres',\n",
        "              'VENUE_CITY', 'VENUE_STREET', 'genre_0', 'genre_1', 'genre_2',\n",
        "              'genre_3', 'genre_4', 'genre_5', 'genre_6', 'ATTRACTION_CLASSIFICATION_SEGMENT',\n",
        "              'ATTRACTION_CLASSIFICATION_GENRE', 'ATTRACTION_CLASSIFICATION_SUB_GENRE', 'ATTRACTION_CLASSIFICATION_TYPE',\n",
        "              'ATTRACTION_CLASSIFICATION_SUB_TYPE', 'state_name', 'first_artist', 'scrape_time',\n",
        "              'VENUE_TIMEZONE', 'VENUE_ID'], axis=1)"
      ]
    },
    {
      "cell_type": "code",
      "execution_count": null,
      "metadata": {
        "id": "PWKJq8Djo2Fc",
        "outputId": "683919e3-abec-4cc6-9ac3-f3e1728f4f2f"
      },
      "outputs": [
        {
          "name": "stdout",
          "output_type": "stream",
          "text": [
            "\n",
            "Remaining columns:\n",
            "['EVENT_NAME', 'EVENT_START_DATETIME', 'EVENT_END_DATETIME', 'CLASSIFICATION_GENRE', 'CLASSIFICATION_SUB_GENRE', 'MIN_PRICE', 'MAX_PRICE', 'ATTRACTION_NAME', 'VENUE_NAME', 'VENUE_STATE_CODE', 'HOT_EVENT', 'artist_popularity', 'followers', 'population', 'city_ascii']\n"
          ]
        }
      ],
      "source": [
        "# Print remaining columns\n",
        "print(\"\\nRemaining columns:\")\n",
        "print(df.columns.tolist())"
      ]
    },
    {
      "cell_type": "code",
      "execution_count": null,
      "metadata": {
        "id": "eShgfCE2o2Fe",
        "outputId": "08e13d52-6ea0-4c11-99a8-fe56718676c7"
      },
      "outputs": [
        {
          "name": "stdout",
          "output_type": "stream",
          "text": [
            "\n",
            "Dataframe after one hot encoding:\n",
            "                  EVENT_NAME       EVENT_START_DATETIME EVENT_END_DATETIME  \\\n",
            "0                    Jordana  2025-02-23 01:00:00+00:00                NaN   \n",
            "1               Robin Schulz  2025-03-16 05:00:00+00:00                NaN   \n",
            "2  LOS ACOSTA EN NEW JERSEY!  2025-03-02 02:00:00+00:00                NaN   \n",
            "3    LOS ACOSTA EN NEW YORK!  2025-03-01 02:00:00+00:00                NaN   \n",
            "4    THUY - Wings World Tour  2025-03-02 04:00:00+00:00                NaN   \n",
            "\n",
            "   MIN_PRICE  MAX_PRICE                ATTRACTION_NAME  \\\n",
            "0      20.00      20.00         Jordana|Rachel Bobbitt   \n",
            "1      24.95      24.95                   Robin Schulz   \n",
            "2      50.00      50.00  Los Acosta|La Sonora Dinamita   \n",
            "3      56.38      56.38  Los Acosta|La Sonora Dinamita   \n",
            "4      35.00      55.00                      thuy|ASTN   \n",
            "\n",
            "                  VENUE_NAME  HOT_EVENT  artist_popularity  followers  ...  \\\n",
            "0            Bowery Ballroom       True                 55      78067  ...   \n",
            "1           Avalon Hollywood      False                 75    3111133  ...   \n",
            "2  El Oaxaqueño Banquet Hall      False                 66    1912339  ...   \n",
            "3                    La Boom      False                 66    1912339  ...   \n",
            "4      Fox Theater - Oakland       True                 61     289314  ...   \n",
            "\n",
            "   VENUE_STATE_CODE_OR VENUE_STATE_CODE_PA  VENUE_STATE_CODE_SC  \\\n",
            "0                    0                   0                    0   \n",
            "1                    0                   0                    0   \n",
            "2                    0                   0                    0   \n",
            "3                    0                   0                    0   \n",
            "4                    0                   0                    0   \n",
            "\n",
            "   VENUE_STATE_CODE_TN  VENUE_STATE_CODE_TX  VENUE_STATE_CODE_UT  \\\n",
            "0                    0                    0                    0   \n",
            "1                    0                    0                    0   \n",
            "2                    0                    0                    0   \n",
            "3                    0                    0                    0   \n",
            "4                    0                    0                    0   \n",
            "\n",
            "   VENUE_STATE_CODE_VA  VENUE_STATE_CODE_WA  VENUE_STATE_CODE_WI  \\\n",
            "0                    0                    0                    0   \n",
            "1                    0                    0                    0   \n",
            "2                    0                    0                    0   \n",
            "3                    0                    0                    0   \n",
            "4                    0                    0                    0   \n",
            "\n",
            "   VENUE_STATE_CODE_WV  \n",
            "0                    0  \n",
            "1                    0  \n",
            "2                    0  \n",
            "3                    0  \n",
            "4                    0  \n",
            "\n",
            "[5 rows x 114 columns]\n"
          ]
        }
      ],
      "source": [
        "# One hot encode the specified columns\n",
        "df = pd.get_dummies(df, columns=['CLASSIFICATION_GENRE', 'CLASSIFICATION_SUB_GENRE', 'VENUE_STATE_CODE'])\n",
        "\n",
        "# Print the first few rows of the dataframe to verify the encoding\n",
        "print(\"\\nDataframe after one hot encoding:\")\n",
        "print(df.head())\n"
      ]
    },
    {
      "cell_type": "markdown",
      "metadata": {
        "id": "c837f6_xo2Ff"
      },
      "source": [
        "### Model 1: Random Forest"
      ]
    },
    {
      "cell_type": "code",
      "execution_count": null,
      "metadata": {
        "id": "S5AFKcPxo2Fg",
        "outputId": "b3f2e46b-0fe0-4334-affd-f822b0e52c7d"
      },
      "outputs": [
        {
          "name": "stdout",
          "output_type": "stream",
          "text": [
            "Mean Squared Error: 278.7290560164858\n",
            "R^2 Score: 0.5089779883193618\n"
          ]
        }
      ],
      "source": [
        "from sklearn.model_selection import train_test_split\n",
        "from sklearn.ensemble import RandomForestRegressor\n",
        "from sklearn.metrics import mean_squared_error\n",
        "\n",
        "# Select only the numerical columns for the model\n",
        "numerical_columns = df.select_dtypes(include=['number']).columns\n",
        "X = df[numerical_columns].drop(['MAX_PRICE', 'MIN_PRICE'], axis=1)\n",
        "y = df['MIN_PRICE']\n",
        "\n",
        "# Remove rows with NaN values\n",
        "X = X.dropna()\n",
        "y = y[X.index]\n",
        "\n",
        "# Split the data into training and testing sets\n",
        "X_train, X_test, y_train, y_test = train_test_split(X, y, test_size=0.2, random_state=42)\n",
        "\n",
        "\n",
        "# Initialize the Random Forest model\n",
        "rf_model = RandomForestRegressor(n_estimators=100, random_state=42)\n",
        "\n",
        "# Train the model\n",
        "rf_model.fit(X_train, y_train)\n",
        "\n",
        "# Make predictions\n",
        "y_pred = rf_model.predict(X_test)\n",
        "\n",
        "# Evaluate the model\n",
        "mse = mean_squared_error(y_test, y_pred)\n",
        "print(f\"Mean Squared Error: {mse}\")\n",
        "\n",
        "from sklearn.metrics import r2_score\n",
        "\n",
        "# Calculate the R^2 score\n",
        "r2 = r2_score(y_test, y_pred)\n",
        "print(f\"R^2 Score: {r2}\")\n",
        "\n",
        "\n"
      ]
    },
    {
      "cell_type": "code",
      "execution_count": null,
      "metadata": {
        "id": "6usg_lGko2Fi",
        "outputId": "7b5dfa49-b2f8-40fd-dde6-82a4071648fa"
      },
      "outputs": [
        {
          "data": {
            "image/png": "[encoded data removed]",
            "text/plain": [
              "<Figure size 864x576 with 1 Axes>"
            ]
          },
          "metadata": {
            "needs_background": "light"
          },
          "output_type": "display_data"
        }
      ],
      "source": [
        "import matplotlib.pyplot as plt\n",
        "import seaborn as sns\n",
        "\n",
        "# Get feature importances from the Random Forest model\n",
        "feature_importances = rf_model.feature_importances_\n",
        "features = X.columns\n",
        "\n",
        "# Create a DataFrame for better visualization\n",
        "importance_df = pd.DataFrame({'Feature': features, 'Importance': feature_importances})\n",
        "\n",
        "# Sort the DataFrame by importance\n",
        "importance_df = importance_df.sort_values(by='Importance', ascending=False).head(15)\n",
        "\n",
        "# Plot the feature importances\n",
        "plt.figure(figsize=(12, 8))\n",
        "sns.barplot(x='Importance', y='Feature', data=importance_df)\n",
        "plt.title('Top 15 Feature Importances in Random Forest Model')\n",
        "plt.xlabel('Importance')\n",
        "plt.ylabel('Feature')\n",
        "plt.tight_layout()\n",
        "plt.show()\n"
      ]
    }
  ],
  "metadata": {
    "kernelspec": {
      "display_name": "base",
      "language": "python",
      "name": "python3"
    },
    "language_info": {
      "codemirror_mode": {
        "name": "ipython",
        "version": 3
      },
      "file_extension": ".py",
      "mimetype": "text/x-python",
      "name": "python",
      "nbconvert_exporter": "python",
      "pygments_lexer": "ipython3",
      "version": "3.9.12"
    },
    "colab": {
      "provenance": []
    }
  },
  "nbformat": 4,
  "nbformat_minor": 0
}