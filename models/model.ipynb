{
 "cells": [
  {
   "cell_type": "code",
   "execution_count": 20,
   "metadata": {},
   "outputs": [],
   "source": [
    "import pandas as pd\n",
    "import numpy as np\n",
    "from sklearn.model_selection import train_test_split\n",
    "from sklearn.linear_model import LinearRegression\n",
    "from sklearn.ensemble import RandomForestRegressor\n",
    "from sklearn.metrics import mean_squared_error, r2_score\n",
    "from sklearn.neighbors import KNeighborsRegressor\n",
    "from sklearn.preprocessing import StandardScaler\n",
    "from sklearn.model_selection import GridSearchCV"
   ]
  },
  {
   "cell_type": "code",
   "execution_count": 21,
   "metadata": {},
   "outputs": [
    {
     "data": {
      "text/plain": [
       "Index(['Unnamed: 0.1', 'Unnamed: 0', 'EVENT_ID', 'EVENT_NAME',\n",
       "       'EVENT_START_DATETIME', 'EVENT_END_DATETIME', 'CLASSIFICATION_GENRE',\n",
       "       'CLASSIFICATION_SUB_GENRE', 'MIN_PRICE', 'MAX_PRICE', 'ATTRACTION_NAME',\n",
       "       'ATTRACTION_ID', 'VENUE_NAME', 'VENUE_ID', 'VENUE_STREET', 'VENUE_CITY',\n",
       "       'VENUE_STATE_CODE', 'VENUE_TIMEZONE', 'CLASSIFICATION_TYPE',\n",
       "       'CLASSIFICATION_SUB_TYPE', 'ATTRACTION_CLASSIFICATION_SEGMENT',\n",
       "       'ATTRACTION_CLASSIFICATION_GENRE',\n",
       "       'ATTRACTION_CLASSIFICATION_SUB_GENRE', 'ATTRACTION_CLASSIFICATION_TYPE',\n",
       "       'ATTRACTION_CLASSIFICATION_SUB_TYPE', 'TRANSACTABLE', 'HOT_EVENT',\n",
       "       'scrape_time', 'city', 'city_ascii', 'state_id', 'state_name',\n",
       "       'population_x', 'CAPACITY', 'individual_artist', 'id', 'name',\n",
       "       'artist_popularity', 'artist_genres', 'followers', 'genre_0', 'genre_1',\n",
       "       'genre_2', 'genre_3', 'genre_4', 'genre_5', 'genre_6', 'lower_name',\n",
       "       'population_y', 'population', 'artist_name', 'artist_spotify_id',\n",
       "       'scraped_popularity', 'lower_artist_name'],\n",
       "      dtype='object')"
      ]
     },
     "execution_count": 21,
     "metadata": {},
     "output_type": "execute_result"
    }
   ],
   "source": [
    "df = pd.read_csv(\"final.csv\")\n",
    "df.columns"
   ]
  },
  {
   "cell_type": "markdown",
   "metadata": {},
   "source": [
    "add columns with time in useful format"
   ]
  },
  {
   "cell_type": "code",
   "execution_count": 22,
   "metadata": {},
   "outputs": [],
   "source": [
    "df[\"EVENT_START_DATETIME\"] = pd.to_datetime(df[\"EVENT_START_DATETIME\"])\n",
    "event_start = pd.to_datetime(df[\"EVENT_START_DATETIME\"]).astype(np.int64) // 10**9\n",
    "scrape_time = pd.to_datetime(df[\"scrape_time\"]).astype(np.int64) // 10**9\n",
    "df[\"time_to_concert\"] =  event_start - scrape_time\n",
    "\n",
    "localized_times = df.apply(lambda row: row['EVENT_START_DATETIME'].tz_convert(row['VENUE_TIMEZONE']), axis=1)\n",
    "\n",
    "def get_day_of_week(dt):\n",
    "    return dt.weekday()\n",
    "df[\"day_of_week\"] = localized_times.map(get_day_of_week)\n",
    "\n",
    "def get_hour(dt):\n",
    "    return dt.hour\n",
    "df[\"hour_of_day\"] = localized_times.map(get_hour)"
   ]
  },
  {
   "cell_type": "markdown",
   "metadata": {},
   "source": [
    "keep only columns that could help with predicting price"
   ]
  },
  {
   "cell_type": "code",
   "execution_count": 23,
   "metadata": {},
   "outputs": [],
   "source": [
    "to_keep = [\n",
    "    \"CLASSIFICATION_GENRE\",\n",
    "    \"CLASSIFICATION_SUB_GENRE\",\n",
    "    \"MIN_PRICE\", \n",
    "    \"MAX_PRICE\",\n",
    "    \"HOT_EVENT\",\n",
    "    \"CAPACITY\",\n",
    "    \"population\",\n",
    "    \"time_to_concert\",\n",
    "    \"artist_popularity\",\n",
    "    \"TRANSACTABLE\",\n",
    "    \"day_of_week\",\n",
    "    \"hour_of_day\"\n",
    "]\n",
    "df = df[to_keep]"
   ]
  },
  {
   "cell_type": "markdown",
   "metadata": {},
   "source": [
    "removing null values"
   ]
  },
  {
   "cell_type": "code",
   "execution_count": 24,
   "metadata": {},
   "outputs": [
    {
     "name": "stdout",
     "output_type": "stream",
     "text": [
      "CLASSIFICATION_GENRE has 0 null values\n",
      "CLASSIFICATION_SUB_GENRE has 72 null values\n",
      "MIN_PRICE has 0 null values\n",
      "MAX_PRICE has 0 null values\n",
      "HOT_EVENT has 0 null values\n",
      "CAPACITY has 1728 null values\n",
      "population has 0 null values\n",
      "time_to_concert has 0 null values\n",
      "artist_popularity has 0 null values\n",
      "TRANSACTABLE has 674 null values\n",
      "day_of_week has 0 null values\n",
      "hour_of_day has 0 null values\n"
     ]
    }
   ],
   "source": [
    "# print number of null values in each column\n",
    "for col in df.columns:\n",
    "    print(col, \"has\", df[col].isna().sum(), \"null values\")"
   ]
  },
  {
   "cell_type": "code",
   "execution_count": 25,
   "metadata": {},
   "outputs": [],
   "source": [
    "df[\"CLASSIFICATION_SUB_GENRE\"] = df['CLASSIFICATION_SUB_GENRE'].fillna(df['CLASSIFICATION_GENRE'])\n",
    "df.dropna(inplace=True)"
   ]
  },
  {
   "cell_type": "code",
   "execution_count": 26,
   "metadata": {},
   "outputs": [],
   "source": [
    "categorical_cols = [col_name for col_name in df.columns if df[col_name].dtype == \"object\"]\n",
    "X = pd.get_dummies(df.drop([\"MIN_PRICE\", \"MAX_PRICE\"], axis=1), columns=categorical_cols)"
   ]
  },
  {
   "cell_type": "code",
   "execution_count": 27,
   "metadata": {},
   "outputs": [],
   "source": [
    "min_y = df['MIN_PRICE']  \n",
    "max_y = df[\"MAX_PRICE\"]"
   ]
  },
  {
   "cell_type": "code",
   "execution_count": 28,
   "metadata": {},
   "outputs": [],
   "source": [
    "def train_and_evalute(x, y, model):\n",
    "    ''' \n",
    "    x: dataframe\n",
    "    y: series\n",
    "    model: some object with a .fit() and .predict() method\n",
    "    returns: performance\n",
    "    '''\n",
    "    X_train, X_test, y_train, y_test = train_test_split(x, y, test_size=0.2, random_state=100)\n",
    "    model.fit(X_train, y_train)\n",
    "    y_pred = model.predict(X_test)\n",
    "    squared_err_arr = (y_pred - y_test)**2\n",
    "    mse = mean_squared_error(y_test, y_pred)\n",
    "    r2 = r2_score(y_test, y_pred)\n",
    "    return {\n",
    "        \"mse\": mse,\n",
    "        \"r2\": r2,\n",
    "        \"model\": model,\n",
    "        \"squared_err_arr\": squared_err_arr\n",
    "    }"
   ]
  },
  {
   "cell_type": "markdown",
   "metadata": {},
   "source": [
    "# Linear Regression"
   ]
  },
  {
   "cell_type": "markdown",
   "metadata": {},
   "source": [
    "## min price"
   ]
  },
  {
   "cell_type": "code",
   "execution_count": 29,
   "metadata": {},
   "outputs": [
    {
     "name": "stdout",
     "output_type": "stream",
     "text": [
      "HOT_EVENT -0.7083086741884942\n",
      "CAPACITY 0.00111897021778616\n",
      "population -2.950443391173807e-07\n",
      "time_to_concert -6.217657741165554e-08\n",
      "artist_popularity 0.14878669004112843\n",
      "day_of_week 0.42868267873738874\n",
      "hour_of_day -0.14810429168905126\n",
      "CLASSIFICATION_GENRE_Blues 0.5106938744994642\n",
      "CLASSIFICATION_GENRE_Classical 1.6892240555941207\n",
      "CLASSIFICATION_GENRE_Country -1.9070806573356625\n",
      "CLASSIFICATION_GENRE_Dance/Electronic 0.08134203856182198\n",
      "CLASSIFICATION_GENRE_Folk 6.195138566858536\n",
      "CLASSIFICATION_GENRE_Hip-Hop/Rap -3.8037297221585327\n",
      "CLASSIFICATION_GENRE_Jazz 3.8327178135156403\n",
      "CLASSIFICATION_GENRE_Latin 4.687676940905693\n",
      "CLASSIFICATION_GENRE_Metal -2.801684775152058\n",
      "CLASSIFICATION_GENRE_New Age -9.475531470570786e-12\n",
      "CLASSIFICATION_GENRE_Other 8.685830106927334\n",
      "CLASSIFICATION_GENRE_Pop -1.4547342171707527\n",
      "CLASSIFICATION_GENRE_R&B 0.8914889093832379\n",
      "CLASSIFICATION_GENRE_Reggae -4.692149933267144\n",
      "CLASSIFICATION_GENRE_Religious -10.26464156107243\n",
      "CLASSIFICATION_GENRE_Rock -2.0503334899402788\n",
      "CLASSIFICATION_GENRE_Undefined -4.412584652247638\n",
      "CLASSIFICATION_GENRE_World 4.812826700272698\n",
      "CLASSIFICATION_SUB_GENRE_Adult Contemporary -8.293652543129408\n",
      "CLASSIFICATION_SUB_GENRE_Alternative Rock -0.7643997907210953\n",
      "CLASSIFICATION_SUB_GENRE_Bluegrass -6.598964604728014\n",
      "CLASSIFICATION_SUB_GENRE_Blues 0.5106938743633691\n",
      "CLASSIFICATION_SUB_GENRE_Classical/Vocal 1.6892240556338445\n",
      "CLASSIFICATION_SUB_GENRE_Country 4.691883947599377\n",
      "CLASSIFICATION_SUB_GENRE_French Rap -3.8037297221413437\n",
      "CLASSIFICATION_SUB_GENRE_Funk -7.698699833024881\n",
      "CLASSIFICATION_SUB_GENRE_Gospel -10.264641561060863\n",
      "CLASSIFICATION_SUB_GENRE_Indie Folk 6.195138566835491\n",
      "CLASSIFICATION_SUB_GENRE_Jazz 3.832717813535477\n",
      "CLASSIFICATION_SUB_GENRE_K-Pop 12.61688398088223\n",
      "CLASSIFICATION_SUB_GENRE_Latin 4.68767694089289\n",
      "CLASSIFICATION_SUB_GENRE_New Age 0.0\n",
      "CLASSIFICATION_SUB_GENRE_Nu-Metal -2.801684774997505\n",
      "CLASSIFICATION_SUB_GENRE_Oldies & Classics 2.5257792524507927\n",
      "CLASSIFICATION_SUB_GENRE_Other 8.685830106913834\n",
      "CLASSIFICATION_SUB_GENRE_Pop -1.872161352385814\n",
      "CLASSIFICATION_SUB_GENRE_Punk -7.717517252051074\n",
      "CLASSIFICATION_SUB_GENRE_R&B -2.432211116223641\n",
      "CLASSIFICATION_SUB_GENRE_Reggae -4.692149933271729\n",
      "CLASSIFICATION_SUB_GENRE_Soul 11.0223998581957\n",
      "CLASSIFICATION_SUB_GENRE_Undefined -4.412584652277774\n",
      "CLASSIFICATION_SUB_GENRE_Witchstep 0.08134203867619849\n",
      "CLASSIFICATION_SUB_GENRE_World 4.812826700586126\n",
      "TRANSACTABLE_False 1.063143178070108\n",
      "TRANSACTABLE_True -1.0631431715606101\n"
     ]
    },
    {
     "data": {
      "text/plain": [
       "{'mse': 182.45825066654058,\n",
       " 'r2': 0.23393302100234092,\n",
       " 'model': LinearRegression(),\n",
       " 'squared_err_arr': 971     133.490355\n",
       " 3566     11.660904\n",
       " 2778    377.277474\n",
       " 424       1.584552\n",
       " 1576     38.003003\n",
       "            ...    \n",
       " 2107      0.013337\n",
       " 809       3.114127\n",
       " 1722     47.043174\n",
       " 1397      0.211142\n",
       " 2007    135.358930\n",
       " Name: MIN_PRICE, Length: 351, dtype: float64}"
      ]
     },
     "execution_count": 29,
     "metadata": {},
     "output_type": "execute_result"
    }
   ],
   "source": [
    "linreg_min = train_and_evalute(X, min_y, LinearRegression())\n",
    "for coef, col in zip(linreg_min[\"model\"].coef_, X.columns):\n",
    "    print(col, coef)\n",
    "linreg_min"
   ]
  },
  {
   "cell_type": "markdown",
   "metadata": {},
   "source": [
    "## max price"
   ]
  },
  {
   "cell_type": "code",
   "execution_count": 30,
   "metadata": {},
   "outputs": [
    {
     "name": "stdout",
     "output_type": "stream",
     "text": [
      "HOT_EVENT -3.8888418265444993\n",
      "CAPACITY 0.007069191728666502\n",
      "population -1.571833507711963e-07\n",
      "time_to_concert -1.6582535886083133e-06\n",
      "artist_popularity 0.4085526671769166\n",
      "day_of_week 5.285530035208351\n",
      "hour_of_day 8.14135940125793\n",
      "CLASSIFICATION_GENRE_Blues 10.922842409806702\n",
      "CLASSIFICATION_GENRE_Classical 17.799863553404784\n",
      "CLASSIFICATION_GENRE_Country -0.36390088609948634\n",
      "CLASSIFICATION_GENRE_Dance/Electronic -12.961747241476806\n",
      "CLASSIFICATION_GENRE_Folk -0.7849862999549586\n",
      "CLASSIFICATION_GENRE_Hip-Hop/Rap -12.67235680570623\n",
      "CLASSIFICATION_GENRE_Jazz 4.969149543673879\n",
      "CLASSIFICATION_GENRE_Latin 29.640578223153412\n",
      "CLASSIFICATION_GENRE_Metal -2.4285440803978062\n",
      "CLASSIFICATION_GENRE_New Age 5.3947957212585607e-11\n",
      "CLASSIFICATION_GENRE_Other -0.041599398128148835\n",
      "CLASSIFICATION_GENRE_Pop -5.6339606904959965\n",
      "CLASSIFICATION_GENRE_R&B -12.742723997397238\n",
      "CLASSIFICATION_GENRE_Reggae -13.187437062271457\n",
      "CLASSIFICATION_GENRE_Religious -19.052633391631062\n",
      "CLASSIFICATION_GENRE_Rock -3.366899154513206\n",
      "CLASSIFICATION_GENRE_Undefined -3.71350811968718\n",
      "CLASSIFICATION_GENRE_World 23.617863408122265\n",
      "CLASSIFICATION_SUB_GENRE_Adult Contemporary -28.222437164402265\n",
      "CLASSIFICATION_SUB_GENRE_Alternative Rock -5.491108359166866\n",
      "CLASSIFICATION_SUB_GENRE_Bluegrass -90.05941669705715\n",
      "CLASSIFICATION_SUB_GENRE_Blues 10.922842410581893\n",
      "CLASSIFICATION_SUB_GENRE_Classical/Vocal 17.79986355317844\n",
      "CLASSIFICATION_SUB_GENRE_Country 89.6955158097783\n",
      "CLASSIFICATION_SUB_GENRE_French Rap -12.672356805804153\n",
      "CLASSIFICATION_SUB_GENRE_Funk -9.675247855283319\n",
      "CLASSIFICATION_SUB_GENRE_Gospel -19.0526333916969\n",
      "CLASSIFICATION_SUB_GENRE_Indie Folk -0.7849862998236752\n",
      "CLASSIFICATION_SUB_GENRE_Jazz 4.969149543560867\n",
      "CLASSIFICATION_SUB_GENRE_K-Pop 35.93280347574632\n",
      "CLASSIFICATION_SUB_GENRE_Latin 29.640578223226257\n",
      "CLASSIFICATION_SUB_GENRE_New Age 0.0\n",
      "CLASSIFICATION_SUB_GENRE_Nu-Metal -2.428544081278135\n",
      "CLASSIFICATION_SUB_GENRE_Oldies & Classics 14.683326514304557\n",
      "CLASSIFICATION_SUB_GENRE_Other -0.04159939805119439\n",
      "CLASSIFICATION_SUB_GENRE_Pop -5.916555903902712\n",
      "CLASSIFICATION_SUB_GENRE_Punk -19.98688841987358\n",
      "CLASSIFICATION_SUB_GENRE_R&B -13.665050191291382\n",
      "CLASSIFICATION_SUB_GENRE_Reggae -13.187437062245309\n",
      "CLASSIFICATION_SUB_GENRE_Soul 10.597574051661386\n",
      "CLASSIFICATION_SUB_GENRE_Undefined -3.7135081195155166\n",
      "CLASSIFICATION_SUB_GENRE_Witchstep -12.961747242128292\n",
      "CLASSIFICATION_SUB_GENRE_World 23.617863406336845\n",
      "TRANSACTABLE_False -2.2752322603999984\n",
      "TRANSACTABLE_True 2.2752322233194797\n"
     ]
    },
    {
     "data": {
      "text/plain": [
       "{'mse': 12947.334548419505,\n",
       " 'r2': 0.133560763866736,\n",
       " 'model': LinearRegression(),\n",
       " 'squared_err_arr': 971      1897.392698\n",
       " 3566      973.805365\n",
       " 2778    10399.505716\n",
       " 424        35.041786\n",
       " 1576      142.470512\n",
       "             ...     \n",
       " 2107     1006.135464\n",
       " 809       542.529798\n",
       " 1722     4222.936830\n",
       " 1397        2.010782\n",
       " 2007      286.847488\n",
       " Name: MAX_PRICE, Length: 351, dtype: float64}"
      ]
     },
     "execution_count": 30,
     "metadata": {},
     "output_type": "execute_result"
    }
   ],
   "source": [
    "linreg_max = train_and_evalute(X, max_y, LinearRegression())\n",
    "for coef, col in zip(linreg_max[\"model\"].coef_, X.columns):\n",
    "    print(col, coef)\n",
    "linreg_max"
   ]
  },
  {
   "cell_type": "markdown",
   "metadata": {},
   "source": [
    "# random forest"
   ]
  },
  {
   "cell_type": "markdown",
   "metadata": {},
   "source": [
    "## min price"
   ]
  },
  {
   "cell_type": "code",
   "execution_count": 31,
   "metadata": {},
   "outputs": [
    {
     "name": "stdout",
     "output_type": "stream",
     "text": [
      "{'max_depth': None, 'min_samples_split': 2}\n"
     ]
    },
    {
     "data": {
      "text/plain": [
       "0.5022304196734266"
      ]
     },
     "execution_count": 31,
     "metadata": {},
     "output_type": "execute_result"
    }
   ],
   "source": [
    "param_grid = {\n",
    "    'max_depth': [None, 10, 20, 30],\n",
    "    'min_samples_split': [2, 5, 10]\n",
    "}\n",
    "\n",
    "grid_search = GridSearchCV(RandomForestRegressor(n_estimators=100, random_state=100), param_grid, cv=5, scoring=\"r2\")\n",
    "grid_search.fit(X, min_y)\n",
    "print(grid_search.best_params_)\n",
    "grid_search.best_score_"
   ]
  },
  {
   "cell_type": "code",
   "execution_count": 32,
   "metadata": {},
   "outputs": [
    {
     "data": {
      "text/plain": [
       "{'mse': 51.17753320162393,\n",
       " 'r2': 0.7851266352214897,\n",
       " 'model': RandomForestRegressor(random_state=100),\n",
       " 'squared_err_arr': 971       0.409600\n",
       " 3566      2.608225\n",
       " 2778    425.110171\n",
       " 424      46.430596\n",
       " 1576     21.114025\n",
       "            ...    \n",
       " 2107      2.441406\n",
       " 809       3.744225\n",
       " 1722     15.132100\n",
       " 1397      0.143262\n",
       " 2007      5.405625\n",
       " Name: MIN_PRICE, Length: 351, dtype: float64}"
      ]
     },
     "execution_count": 32,
     "metadata": {},
     "output_type": "execute_result"
    }
   ],
   "source": [
    "train_and_evalute(X, min_y, \n",
    "    RandomForestRegressor(n_estimators=100, random_state=100, min_samples_split=2)\n",
    ")"
   ]
  },
  {
   "cell_type": "markdown",
   "metadata": {},
   "source": [
    "## max price"
   ]
  },
  {
   "cell_type": "code",
   "execution_count": 33,
   "metadata": {},
   "outputs": [
    {
     "name": "stdout",
     "output_type": "stream",
     "text": [
      "mse 644.1773480210242\n"
     ]
    },
    {
     "data": {
      "text/plain": [
       "('r2:', 0.9568914723515953)"
      ]
     },
     "execution_count": 33,
     "metadata": {},
     "output_type": "execute_result"
    }
   ],
   "source": [
    "rand_for_max = train_and_evalute(X, max_y, RandomForestRegressor(n_estimators=500, random_state=100))\n",
    "print(\"mse\", rand_for_max[\"mse\"])\n",
    "\"r2:\", rand_for_max[\"r2\"]"
   ]
  },
  {
   "cell_type": "markdown",
   "metadata": {},
   "source": [
    "# KNN"
   ]
  },
  {
   "cell_type": "markdown",
   "metadata": {},
   "source": [
    "before doing knn, all values should be normalized so that large values do not influence the results, and the scaler should be fit on the training data to avoid data leak"
   ]
  },
  {
   "cell_type": "code",
   "execution_count": 34,
   "metadata": {},
   "outputs": [],
   "source": [
    "scaler = StandardScaler()\n",
    "X_train, X_test, y_min_train, y_min_test, y_max_train, y_max_test = train_test_split(X, min_y, max_y, test_size=0.2, random_state=100)\n",
    "scaler.fit(X_train)\n",
    "scaled_x_train = scaler.transform(X_train)\n",
    "scaled_x_test = scaler.transform(X_test)"
   ]
  },
  {
   "cell_type": "markdown",
   "metadata": {},
   "source": [
    "## min price"
   ]
  },
  {
   "cell_type": "code",
   "execution_count": 35,
   "metadata": {},
   "outputs": [
    {
     "name": "stdout",
     "output_type": "stream",
     "text": [
      "{'n_neighbors': 7}\n"
     ]
    },
    {
     "data": {
      "text/plain": [
       "0.23128751935641242"
      ]
     },
     "execution_count": 35,
     "metadata": {},
     "output_type": "execute_result"
    }
   ],
   "source": [
    "param_grid = {\n",
    "    \"n_neighbors\": [i for i in range(3, int(scaled_x_train.shape[0]**0.5) + 2, 2)]  # square root of number of samples is a recommended value\n",
    "}\n",
    "\n",
    "grid_search = GridSearchCV(KNeighborsRegressor(), param_grid, cv=5, scoring=\"r2\")\n",
    "grid_search.fit(scaled_x_train, y_min_train)\n",
    "print(grid_search.best_params_)\n",
    "grid_search.best_score_"
   ]
  },
  {
   "cell_type": "code",
   "execution_count": 36,
   "metadata": {},
   "outputs": [
    {
     "name": "stdout",
     "output_type": "stream",
     "text": [
      "mse: 151.88116593406593 r2: 0.36231359487056247\n"
     ]
    }
   ],
   "source": [
    "min_knn = KNeighborsRegressor(n_neighbors=7)\n",
    "min_knn.fit(scaled_x_train, y_min_train)\n",
    "y_min_pred = min_knn.predict(scaled_x_test)\n",
    "mse = mean_squared_error(y_min_test, y_min_pred)\n",
    "r2 = r2_score(y_min_test, y_min_pred)\n",
    "print(\"mse:\", mse, \"r2:\", r2)"
   ]
  },
  {
   "cell_type": "markdown",
   "metadata": {},
   "source": [
    "## max price"
   ]
  },
  {
   "cell_type": "code",
   "execution_count": 37,
   "metadata": {},
   "outputs": [
    {
     "name": "stdout",
     "output_type": "stream",
     "text": [
      "{'n_neighbors': 3}\n"
     ]
    },
    {
     "data": {
      "text/plain": [
       "0.4402548556203082"
      ]
     },
     "execution_count": 37,
     "metadata": {},
     "output_type": "execute_result"
    }
   ],
   "source": [
    "param_grid = {\n",
    "    \"n_neighbors\": [i for i in range(3, int(scaled_x_train.shape[0]**0.5) + 2, 2)]  # square root of number of samples is a recommended value\n",
    "}  # and number of neighbors should be odd\n",
    "\n",
    "grid_search = GridSearchCV(KNeighborsRegressor(), param_grid, cv=5, scoring=\"r2\")\n",
    "grid_search.fit(scaled_x_train, y_max_train)\n",
    "print(grid_search.best_params_)\n",
    "grid_search.best_score_"
   ]
  },
  {
   "cell_type": "code",
   "execution_count": 38,
   "metadata": {},
   "outputs": [
    {
     "name": "stdout",
     "output_type": "stream",
     "text": [
      "mse: 6405.5534212092425 r2: 0.5713385799580772\n"
     ]
    }
   ],
   "source": [
    "max_knn = KNeighborsRegressor(n_neighbors=3)\n",
    "max_knn.fit(scaled_x_train, y_max_train)\n",
    "y_max_pred = max_knn.predict(scaled_x_test)\n",
    "mse = mean_squared_error(y_max_test, y_max_pred)\n",
    "r2 = r2_score(y_max_test, y_max_pred)\n",
    "print(\"mse:\", mse, \"r2:\", r2)"
   ]
  },
  {
   "cell_type": "markdown",
   "metadata": {},
   "source": [
    "# visualization of best model\n",
    "\n",
    "The best model appears to be the random forest regressor predicting maximum price, with a r^2 of 0.736"
   ]
  },
  {
   "cell_type": "code",
   "execution_count": 39,
   "metadata": {},
   "outputs": [
    {
     "data": {
      "image/png": "[encoded data removed]",
      "text/plain": [
       "<Figure size 1200x800 with 1 Axes>"
      ]
     },
     "metadata": {},
     "output_type": "display_data"
    }
   ],
   "source": [
    "import matplotlib.pyplot as plt\n",
    "import seaborn as sns\n",
    "\n",
    "# Get feature importances from the Random Forest model\n",
    "feature_importances = rand_for_max[\"model\"].feature_importances_\n",
    "features = X.columns\n",
    "\n",
    "# Create a DataFrame for better visualization\n",
    "importance_df = pd.DataFrame({'Feature': features, 'Importance': feature_importances})\n",
    "\n",
    "# Sort the DataFrame by importance\n",
    "importance_df = importance_df.sort_values(by='Importance', ascending=False).head(15)\n",
    "\n",
    "# Plot the feature importances\n",
    "plt.figure(figsize=(12, 8))\n",
    "sns.barplot(x='Importance', y='Feature', data=importance_df)\n",
    "plt.title('Top 15 Feature Importances in Random Forest Model')\n",
    "plt.xlabel('Importance')\n",
    "plt.ylabel('Feature')\n",
    "plt.tight_layout()\n",
    "plt.show()\n"
   ]
  },
  {
   "cell_type": "code",
   "execution_count": 40,
   "metadata": {},
   "outputs": [
    {
     "data": {
      "image/png": "[encoded data removed]",
      "text/plain": [
       "<Figure size 640x480 with 1 Axes>"
      ]
     },
     "metadata": {},
     "output_type": "display_data"
    }
   ],
   "source": [
    "plt.hist(rand_for_max[\"squared_err_arr\"])\n",
    "plt.title(\"Histogram of Mean Squared Error of Random Forest Regression predicting max price\")\n",
    "plt.show()"
   ]
  },
  {
   "cell_type": "code",
   "execution_count": 41,
   "metadata": {},
   "outputs": [
    {
     "data": {
      "image/png": "[encoded data removed]",
      "text/plain": [
       "<Figure size 640x480 with 1 Axes>"
      ]
     },
     "metadata": {},
     "output_type": "display_data"
    }
   ],
   "source": [
    "plt.hist(max_y)\n",
    "plt.title(\"Histogram of max prices\")\n",
    "plt.show()"
   ]
  },
  {
   "cell_type": "markdown",
   "metadata": {},
   "source": [
    "These histograms show how the Mean Squared Error is skewed higher because of some concerts with extreme outlier prices, which likely contributes to the a slightly higher MSE of the random forest model, even though it has a high r^2 value."
   ]
  },
  {
   "cell_type": "markdown",
   "metadata": {},
   "source": []
  }
 ],
 "metadata": {
  "kernelspec": {
   "display_name": "Python 3",
   "language": "python",
   "name": "python3"
  },
  "language_info": {
   "codemirror_mode": {
    "name": "ipython",
    "version": 3
   },
   "file_extension": ".py",
   "mimetype": "text/x-python",
   "name": "python",
   "nbconvert_exporter": "python",
   "pygments_lexer": "ipython3",
   "version": "3.10.1"
  }
 },
 "nbformat": 4,
 "nbformat_minor": 2
}
