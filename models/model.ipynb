{
 "cells": [
  {
   "cell_type": "code",
   "execution_count": 3,
   "metadata": {},
   "outputs": [],
   "source": [
    "import pandas as pd\n",
    "import numpy as np\n",
    "from sklearn.model_selection import train_test_split\n",
    "from sklearn.linear_model import LinearRegression\n",
    "from sklearn.ensemble import RandomForestRegressor\n",
    "from sklearn.metrics import mean_squared_error, r2_score\n",
    "from sklearn.neighbors import KNeighborsRegressor\n",
    "from sklearn.preprocessing import StandardScaler\n",
    "from sklearn.model_selection import GridSearchCV"
   ]
  },
  {
   "cell_type": "code",
   "execution_count": 4,
   "metadata": {},
   "outputs": [
    {
     "data": {
      "text/plain": [
       "Index(['Unnamed: 0.1', 'Unnamed: 0', 'EVENT_ID', 'EVENT_NAME',\n",
       "       'EVENT_START_DATETIME', 'EVENT_END_DATETIME', 'CLASSIFICATION_GENRE',\n",
       "       'CLASSIFICATION_SUB_GENRE', 'MIN_PRICE', 'MAX_PRICE', 'ATTRACTION_NAME',\n",
       "       'ATTRACTION_ID', 'VENUE_NAME', 'VENUE_ID', 'VENUE_STREET', 'VENUE_CITY',\n",
       "       'VENUE_STATE_CODE', 'VENUE_TIMEZONE', 'CLASSIFICATION_TYPE',\n",
       "       'CLASSIFICATION_SUB_TYPE', 'ATTRACTION_CLASSIFICATION_SEGMENT',\n",
       "       'ATTRACTION_CLASSIFICATION_GENRE',\n",
       "       'ATTRACTION_CLASSIFICATION_SUB_GENRE', 'ATTRACTION_CLASSIFICATION_TYPE',\n",
       "       'ATTRACTION_CLASSIFICATION_SUB_TYPE', 'TRANSACTABLE', 'HOT_EVENT',\n",
       "       'scrape_time', 'city', 'city_ascii', 'state_id', 'state_name',\n",
       "       'population', 'CAPACITY', 'individual_artist', 'id', 'name',\n",
       "       'artist_popularity', 'artist_genres', 'followers', 'genre_0', 'genre_1',\n",
       "       'genre_2', 'genre_3', 'genre_4', 'genre_5', 'genre_6', 'lower_name'],\n",
       "      dtype='object')"
      ]
     },
     "execution_count": 4,
     "metadata": {},
     "output_type": "execute_result"
    }
   ],
   "source": [
    "df = pd.read_csv(\"823rows.csv\")\n",
    "df.columns"
   ]
  },
  {
   "cell_type": "markdown",
   "metadata": {},
   "source": [
    "add columns with time in useful format"
   ]
  },
  {
   "cell_type": "code",
   "execution_count": 5,
   "metadata": {},
   "outputs": [],
   "source": [
    "df[\"EVENT_START_DATETIME\"] = pd.to_datetime(df[\"EVENT_START_DATETIME\"])\n",
    "event_start = pd.to_datetime(df[\"EVENT_START_DATETIME\"]).astype(np.int64) // 10**9\n",
    "scrape_time = pd.to_datetime(df[\"scrape_time\"]).astype(np.int64) // 10**9\n",
    "df[\"time_to_concert\"] =  event_start - scrape_time\n",
    "\n",
    "localized_times = df.apply(lambda row: row['EVENT_START_DATETIME'].tz_convert(row['VENUE_TIMEZONE']), axis=1)\n",
    "\n",
    "def get_day_of_week(dt):\n",
    "    return dt.weekday()\n",
    "df[\"day_of_week\"] = localized_times.map(get_day_of_week)\n",
    "\n",
    "def get_hour(dt):\n",
    "    return dt.hour\n",
    "df[\"hour_of_day\"] = localized_times.map(get_hour)"
   ]
  },
  {
   "cell_type": "markdown",
   "metadata": {},
   "source": [
    "keep only columns that could help with predicting price"
   ]
  },
  {
   "cell_type": "code",
   "execution_count": 6,
   "metadata": {},
   "outputs": [],
   "source": [
    "to_keep = [\n",
    "    \"CLASSIFICATION_GENRE\",\n",
    "    \"CLASSIFICATION_SUB_GENRE\",\n",
    "    \"MIN_PRICE\", \n",
    "    \"MAX_PRICE\",\n",
    "    \"HOT_EVENT\",\n",
    "    \"CAPACITY\",\n",
    "    \"population\",\n",
    "    \"time_to_concert\",\n",
    "    \"artist_popularity\",\n",
    "    \"VENUE_STATE_CODE\",\n",
    "    \"TRANSACTABLE\",\n",
    "    \"day_of_week\",\n",
    "    \"hour_of_day\"\n",
    "]\n",
    "df = df[to_keep]"
   ]
  },
  {
   "cell_type": "markdown",
   "metadata": {},
   "source": [
    "removing null values"
   ]
  },
  {
   "cell_type": "code",
   "execution_count": 7,
   "metadata": {},
   "outputs": [
    {
     "name": "stdout",
     "output_type": "stream",
     "text": [
      "CLASSIFICATION_GENRE has 0 null values\n",
      "CLASSIFICATION_SUB_GENRE has 4 null values\n",
      "MIN_PRICE has 0 null values\n",
      "MAX_PRICE has 0 null values\n",
      "HOT_EVENT has 0 null values\n",
      "CAPACITY has 175 null values\n",
      "population has 44 null values\n",
      "time_to_concert has 0 null values\n",
      "artist_popularity has 0 null values\n",
      "VENUE_STATE_CODE has 0 null values\n",
      "TRANSACTABLE has 109 null values\n",
      "day_of_week has 0 null values\n",
      "hour_of_day has 0 null values\n"
     ]
    }
   ],
   "source": [
    "# print number of null values in each column\n",
    "for col in df.columns:\n",
    "    print(col, \"has\", df[col].isna().sum(), \"null values\")"
   ]
  },
  {
   "cell_type": "code",
   "execution_count": 8,
   "metadata": {},
   "outputs": [],
   "source": [
    "df[\"CLASSIFICATION_SUB_GENRE\"] = df['CLASSIFICATION_SUB_GENRE'].fillna(df['CLASSIFICATION_GENRE'])\n",
    "df.dropna(inplace=True)"
   ]
  },
  {
   "cell_type": "code",
   "execution_count": 9,
   "metadata": {},
   "outputs": [],
   "source": [
    "categorical_cols = [col_name for col_name in df.columns if df[col_name].dtype == \"object\"]\n",
    "X = pd.get_dummies(df.drop([\"MIN_PRICE\", \"MAX_PRICE\"], axis=1), columns=categorical_cols)"
   ]
  },
  {
   "cell_type": "code",
   "execution_count": 10,
   "metadata": {},
   "outputs": [],
   "source": [
    "min_y = df['MIN_PRICE']  \n",
    "max_y = df[\"MAX_PRICE\"]"
   ]
  },
  {
   "cell_type": "code",
   "execution_count": 11,
   "metadata": {},
   "outputs": [],
   "source": [
    "def train_and_evalute(x, y, model):\n",
    "    ''' \n",
    "    x: dataframe\n",
    "    y: series\n",
    "    model: some object with a .fit() and .predict() method\n",
    "    returns: performance\n",
    "    '''\n",
    "    X_train, X_test, y_train, y_test = train_test_split(x, y, test_size=0.2, random_state=100)\n",
    "    model.fit(X_train, y_train)\n",
    "    y_pred = model.predict(X_test)\n",
    "    mse = mean_squared_error(y_test, y_pred)\n",
    "    r2 = r2_score(y_test, y_pred)\n",
    "    return {\n",
    "        \"mse\": mse,\n",
    "        \"r2\": r2,\n",
    "        \"model\": model\n",
    "    }"
   ]
  },
  {
   "cell_type": "markdown",
   "metadata": {},
   "source": [
    "# Linear Regression"
   ]
  },
  {
   "cell_type": "markdown",
   "metadata": {},
   "source": [
    "## min price"
   ]
  },
  {
   "cell_type": "code",
   "execution_count": 12,
   "metadata": {},
   "outputs": [
    {
     "data": {
      "text/plain": [
       "{'mse': 645.1694430827711,\n",
       " 'r2': 0.20949774196561766,\n",
       " 'model': LinearRegression()}"
      ]
     },
     "execution_count": 12,
     "metadata": {},
     "output_type": "execute_result"
    }
   ],
   "source": [
    "train_and_evalute(X, min_y, LinearRegression())"
   ]
  },
  {
   "cell_type": "markdown",
   "metadata": {},
   "source": [
    "## max price"
   ]
  },
  {
   "cell_type": "code",
   "execution_count": 13,
   "metadata": {},
   "outputs": [
    {
     "data": {
      "text/plain": [
       "{'mse': 7529.230833281524,\n",
       " 'r2': 0.500582662983933,\n",
       " 'model': LinearRegression()}"
      ]
     },
     "execution_count": 13,
     "metadata": {},
     "output_type": "execute_result"
    }
   ],
   "source": [
    "train_and_evalute(X, max_y, LinearRegression())"
   ]
  },
  {
   "cell_type": "markdown",
   "metadata": {},
   "source": [
    "# random forest"
   ]
  },
  {
   "cell_type": "markdown",
   "metadata": {},
   "source": [
    "## min price"
   ]
  },
  {
   "cell_type": "code",
   "execution_count": 14,
   "metadata": {},
   "outputs": [
    {
     "name": "stdout",
     "output_type": "stream",
     "text": [
      "{'max_depth': 30, 'min_samples_split': 10}\n"
     ]
    },
    {
     "data": {
      "text/plain": [
       "0.38846898044534256"
      ]
     },
     "execution_count": 14,
     "metadata": {},
     "output_type": "execute_result"
    }
   ],
   "source": [
    "param_grid = {\n",
    "    'max_depth': [None, 10, 20, 30],\n",
    "    'min_samples_split': [2, 5, 10]\n",
    "}\n",
    "\n",
    "grid_search = GridSearchCV(RandomForestRegressor(n_estimators=100, random_state=100), param_grid, cv=5, scoring=\"r2\")\n",
    "grid_search.fit(X, min_y)\n",
    "print(grid_search.best_params_)\n",
    "grid_search.best_score_"
   ]
  },
  {
   "cell_type": "markdown",
   "metadata": {},
   "source": [
    "## max price"
   ]
  },
  {
   "cell_type": "code",
   "execution_count": 15,
   "metadata": {},
   "outputs": [
    {
     "data": {
      "text/plain": [
       "{'mse': 3974.134622867091,\n",
       " 'r2': 0.7363938263756744,\n",
       " 'model': RandomForestRegressor(n_estimators=500, random_state=100)}"
      ]
     },
     "execution_count": 15,
     "metadata": {},
     "output_type": "execute_result"
    }
   ],
   "source": [
    "rand_for_max = train_and_evalute(X, max_y, RandomForestRegressor(n_estimators=500, random_state=100))\n",
    "rand_for_max"
   ]
  },
  {
   "cell_type": "markdown",
   "metadata": {},
   "source": [
    "# KNN"
   ]
  },
  {
   "cell_type": "markdown",
   "metadata": {},
   "source": [
    "before doing knn, all values should be normalized so that large values do not influence the results"
   ]
  },
  {
   "cell_type": "code",
   "execution_count": 16,
   "metadata": {},
   "outputs": [],
   "source": [
    "scaler = StandardScaler()\n",
    "scaled_x = scaler.fit_transform(X)"
   ]
  },
  {
   "cell_type": "markdown",
   "metadata": {},
   "source": [
    "## min price"
   ]
  },
  {
   "cell_type": "code",
   "execution_count": 17,
   "metadata": {},
   "outputs": [
    {
     "name": "stdout",
     "output_type": "stream",
     "text": [
      "{'n_neighbors': 11}\n"
     ]
    },
    {
     "data": {
      "text/plain": [
       "0.2184945502220689"
      ]
     },
     "execution_count": 17,
     "metadata": {},
     "output_type": "execute_result"
    }
   ],
   "source": [
    "param_grid = {\n",
    "    \"n_neighbors\": [i for i in range(3, int(scaled_x.shape[0]**0.5) + 2, 2)]  # square root of number of samples is a recommended value\n",
    "}\n",
    "\n",
    "grid_search = GridSearchCV(KNeighborsRegressor(), param_grid, cv=5, scoring=\"r2\")\n",
    "grid_search.fit(scaled_x, min_y)\n",
    "print(grid_search.best_params_)\n",
    "grid_search.best_score_"
   ]
  },
  {
   "cell_type": "markdown",
   "metadata": {},
   "source": [
    "## max price"
   ]
  },
  {
   "cell_type": "code",
   "execution_count": 18,
   "metadata": {},
   "outputs": [
    {
     "name": "stdout",
     "output_type": "stream",
     "text": [
      "{'n_neighbors': 5}\n"
     ]
    },
    {
     "data": {
      "text/plain": [
       "0.4395297620193667"
      ]
     },
     "execution_count": 18,
     "metadata": {},
     "output_type": "execute_result"
    }
   ],
   "source": [
    "param_grid = {\n",
    "    \"n_neighbors\": [i for i in range(3, int(scaled_x.shape[0]**0.5) + 2, 2)]  # square root of number of samples is a recommended value\n",
    "}  # and number of neighbors should be odd\n",
    "\n",
    "grid_search = GridSearchCV(KNeighborsRegressor(), param_grid, cv=5, scoring=\"r2\")\n",
    "grid_search.fit(scaled_x, max_y)\n",
    "print(grid_search.best_params_)\n",
    "grid_search.best_score_"
   ]
  },
  {
   "cell_type": "markdown",
   "metadata": {},
   "source": [
    "# visualization of best model\n",
    "\n",
    "The best model appears to be the random forest regressor predicting maximum price, with a r^2 of 0.736"
   ]
  },
  {
   "cell_type": "code",
   "execution_count": 19,
   "metadata": {},
   "outputs": [
    {
     "data": {
      "image/png": "[encoded data removed]",
      "text/plain": [
       "<Figure size 1200x800 with 1 Axes>"
      ]
     },
     "metadata": {},
     "output_type": "display_data"
    }
   ],
   "source": [
    "import matplotlib.pyplot as plt\n",
    "import seaborn as sns\n",
    "\n",
    "# Get feature importances from the Random Forest model\n",
    "feature_importances = rand_for_max[\"model\"].feature_importances_\n",
    "features = X.columns\n",
    "\n",
    "# Create a DataFrame for better visualization\n",
    "importance_df = pd.DataFrame({'Feature': features, 'Importance': feature_importances})\n",
    "\n",
    "# Sort the DataFrame by importance\n",
    "importance_df = importance_df.sort_values(by='Importance', ascending=False).head(15)\n",
    "\n",
    "# Plot the feature importances\n",
    "plt.figure(figsize=(12, 8))\n",
    "sns.barplot(x='Importance', y='Feature', data=importance_df)\n",
    "plt.title('Top 15 Feature Importances in Random Forest Model')\n",
    "plt.xlabel('Importance')\n",
    "plt.ylabel('Feature')\n",
    "plt.tight_layout()\n",
    "plt.show()\n"
   ]
  },
  {
   "cell_type": "code",
   "execution_count": 20,
   "metadata": {},
   "outputs": [
    {
     "data": {
      "text/plain": [
       "(array([344.,  80.,  46.,  37.,  13.,   7.,   4.,   2.,   0.,   1.]),\n",
       " array([ 15.  , 107.95, 200.9 , 293.85, 386.8 , 479.75, 572.7 , 665.65,\n",
       "        758.6 , 851.55, 944.5 ]),\n",
       " <BarContainer object of 10 artists>)"
      ]
     },
     "execution_count": 20,
     "metadata": {},
     "output_type": "execute_result"
    },
    {
     "data": {
      "image/png": "[encoded data removed]",
      "text/plain": [
       "<Figure size 640x480 with 1 Axes>"
      ]
     },
     "metadata": {},
     "output_type": "display_data"
    }
   ],
   "source": [
    "plt.hist(max_y)"
   ]
  },
  {
   "cell_type": "markdown",
   "metadata": {},
   "source": [
    "The histogram shows how there are some concerts with extreme outlier prices, which likely contributes to the high MSE of the random forest model, even though it has a high r^2 value."
   ]
  }
 ],
 "metadata": {
  "kernelspec": {
   "display_name": "Python 3",
   "language": "python",
   "name": "python3"
  },
  "language_info": {
   "codemirror_mode": {
    "name": "ipython",
    "version": 3
   },
   "file_extension": ".py",
   "mimetype": "text/x-python",
   "name": "python",
   "nbconvert_exporter": "python",
   "pygments_lexer": "ipython3",
   "version": "3.10.1"
  }
 },
 "nbformat": 4,
 "nbformat_minor": 2
}
