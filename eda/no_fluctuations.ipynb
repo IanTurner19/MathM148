{
 "cells": [
  {
   "cell_type": "code",
   "execution_count": 5,
   "metadata": {},
   "outputs": [],
   "source": [
    "import pandas as pd"
   ]
  },
  {
   "cell_type": "code",
   "execution_count": 6,
   "metadata": {},
   "outputs": [
    {
     "data": {
      "text/plain": [
       "Index(['event id', 'event name', 'EVENT_START_DATETIME',\n",
       "       'CLASSIFICATION_GENRE', 'CLASSIFICATION_SUB_GENRE', 'MIN_PRICE',\n",
       "       'MAX_PRICE', 'ATTRACTION_NAME', 'attraction id', 'venue city',\n",
       "       'venue id', 'venue address', 'venue state', 'VENUE_TIMEZONE',\n",
       "       'classification type', 'classification subtype',\n",
       "       'classification segment', 'classification genre',\n",
       "       'classification subgenre', 'classification type.1',\n",
       "       'classification subtype.1', 'scrape time'],\n",
       "      dtype='object')"
      ]
     },
     "execution_count": 6,
     "metadata": {},
     "output_type": "execute_result"
    }
   ],
   "source": [
    "df = pd.read_csv(\"new_data.csv\")\n",
    "df.columns"
   ]
  },
  {
   "cell_type": "code",
   "execution_count": 7,
   "metadata": {},
   "outputs": [
    {
     "data": {
      "text/html": [
       "<div>\n",
       "<style scoped>\n",
       "    .dataframe tbody tr th:only-of-type {\n",
       "        vertical-align: middle;\n",
       "    }\n",
       "\n",
       "    .dataframe tbody tr th {\n",
       "        vertical-align: top;\n",
       "    }\n",
       "\n",
       "    .dataframe thead th {\n",
       "        text-align: right;\n",
       "    }\n",
       "</style>\n",
       "<table border=\"1\" class=\"dataframe\">\n",
       "  <thead>\n",
       "    <tr style=\"text-align: right;\">\n",
       "      <th></th>\n",
       "      <th>event id</th>\n",
       "      <th>MIN_PRICE_early</th>\n",
       "      <th>scrape time_early</th>\n",
       "      <th>MIN_PRICE_late</th>\n",
       "      <th>scrape time_late</th>\n",
       "      <th>markup</th>\n",
       "    </tr>\n",
       "  </thead>\n",
       "  <tbody>\n",
       "    <tr>\n",
       "      <th>0</th>\n",
       "      <td>11AYvxaAAFjtv5</td>\n",
       "      <td>59.98</td>\n",
       "      <td>2025-02-07 20:36:49.127253</td>\n",
       "      <td>59.98</td>\n",
       "      <td>2025-02-07 20:36:49.127253</td>\n",
       "      <td>0.0</td>\n",
       "    </tr>\n",
       "    <tr>\n",
       "      <th>1</th>\n",
       "      <td>11FZv-oF-4ANv5</td>\n",
       "      <td>29.50</td>\n",
       "      <td>2025-02-07 20:36:47.970969</td>\n",
       "      <td>29.50</td>\n",
       "      <td>2025-02-08 18:16:58.843231</td>\n",
       "      <td>0.0</td>\n",
       "    </tr>\n",
       "    <tr>\n",
       "      <th>2</th>\n",
       "      <td>169ZkAx8KZA51Ckv</td>\n",
       "      <td>78.00</td>\n",
       "      <td>2025-02-07 20:36:47.955347</td>\n",
       "      <td>78.00</td>\n",
       "      <td>2025-02-07 20:36:47.955347</td>\n",
       "      <td>0.0</td>\n",
       "    </tr>\n",
       "    <tr>\n",
       "      <th>3</th>\n",
       "      <td>169ZkAx8KZAG1CkA</td>\n",
       "      <td>78.00</td>\n",
       "      <td>2025-02-07 20:36:47.955347</td>\n",
       "      <td>78.00</td>\n",
       "      <td>2025-02-14 05:00:02.126734</td>\n",
       "      <td>0.0</td>\n",
       "    </tr>\n",
       "    <tr>\n",
       "      <th>4</th>\n",
       "      <td>169ZkAx8KZAG1Ckd</td>\n",
       "      <td>79.00</td>\n",
       "      <td>2025-02-07 20:36:47.955347</td>\n",
       "      <td>79.00</td>\n",
       "      <td>2025-02-12 02:00:02.851363</td>\n",
       "      <td>0.0</td>\n",
       "    </tr>\n",
       "  </tbody>\n",
       "</table>\n",
       "</div>"
      ],
      "text/plain": [
       "           event id  MIN_PRICE_early           scrape time_early  \\\n",
       "0    11AYvxaAAFjtv5            59.98  2025-02-07 20:36:49.127253   \n",
       "1    11FZv-oF-4ANv5            29.50  2025-02-07 20:36:47.970969   \n",
       "2  169ZkAx8KZA51Ckv            78.00  2025-02-07 20:36:47.955347   \n",
       "3  169ZkAx8KZAG1CkA            78.00  2025-02-07 20:36:47.955347   \n",
       "4  169ZkAx8KZAG1Ckd            79.00  2025-02-07 20:36:47.955347   \n",
       "\n",
       "   MIN_PRICE_late            scrape time_late  markup  \n",
       "0           59.98  2025-02-07 20:36:49.127253     0.0  \n",
       "1           29.50  2025-02-08 18:16:58.843231     0.0  \n",
       "2           78.00  2025-02-07 20:36:47.955347     0.0  \n",
       "3           78.00  2025-02-14 05:00:02.126734     0.0  \n",
       "4           79.00  2025-02-12 02:00:02.851363     0.0  "
      ]
     },
     "execution_count": 7,
     "metadata": {},
     "output_type": "execute_result"
    }
   ],
   "source": [
    "min_price_df = df[[\"event id\", \"MIN_PRICE\", \"scrape time\"]]\n",
    "earliest_times = min_price_df.drop(\"MIN_PRICE\", axis=1).groupby(by=\"event id\").min().reset_index()\n",
    "earliest_prices = min_price_df.merge(earliest_times, on=[\"event id\", \"scrape time\"], how=\"right\")\n",
    "\n",
    "latest_times = min_price_df.drop(\"MIN_PRICE\", axis=1).groupby(by=\"event id\").max().reset_index()\n",
    "latest_prices = min_price_df.merge(latest_times, on=[\"event id\", \"scrape time\"], how=\"right\")\n",
    "\n",
    "diff_min = earliest_prices.merge(latest_prices, on=\"event id\", how=\"inner\", suffixes=[\"_early\", \"_late\"])\n",
    "diff_min[\"markup\"] = diff_min[\"MIN_PRICE_late\"] - diff_min[\"MIN_PRICE_early\"]\n",
    "diff_min.head()"
   ]
  },
  {
   "cell_type": "code",
   "execution_count": 8,
   "metadata": {},
   "outputs": [
    {
     "data": {
      "text/plain": [
       "0.06313993174061433"
      ]
     },
     "execution_count": 8,
     "metadata": {},
     "output_type": "execute_result"
    }
   ],
   "source": [
    "diff_min[diff_min[\"markup\"] != 0].shape[0] / diff_min.shape[0]"
   ]
  },
  {
   "cell_type": "markdown",
   "metadata": {},
   "source": [
    "The above shows only 6% of all concerts had any markup/discount over time at all."
   ]
  },
  {
   "cell_type": "code",
   "execution_count": 9,
   "metadata": {},
   "outputs": [
    {
     "data": {
      "text/plain": [
       "2"
      ]
     },
     "execution_count": 9,
     "metadata": {},
     "output_type": "execute_result"
    }
   ],
   "source": [
    "num_prices = df.groupby(\"event id\").nunique()\n",
    "num_prices[num_prices[\"MIN_PRICE\"] > 2][[\"MIN_PRICE\"]].shape[0]"
   ]
  },
  {
   "cell_type": "markdown",
   "metadata": {},
   "source": [
    "The above shows that only 2 concerts in our entire dataset of several hundred concerts had more than 2 unique minimum ticket prices over the time interval that we scraped their data. Of the few concerts that changed price, only 2 changed price more than once."
   ]
  },
  {
   "cell_type": "code",
   "execution_count": 10,
   "metadata": {},
   "outputs": [
    {
     "data": {
      "text/plain": [
       "0.06324786324786325"
      ]
     },
     "execution_count": 10,
     "metadata": {},
     "output_type": "execute_result"
    }
   ],
   "source": [
    "just_event_and_price = df.dropna(subset=\"MAX_PRICE\")[[\"event id\", \"MAX_PRICE\"]]\n",
    "stds = just_event_and_price.groupby(\"event id\").std()\n",
    "had_change = stds[stds[\"MAX_PRICE\"] > 0]\n",
    "had_change.shape[0] / stds.shape[0]"
   ]
  },
  {
   "cell_type": "markdown",
   "metadata": {},
   "source": [
    "The above uses the standard deviation of all maximum ticket prices for each concert to show that only 6% of the concerts in our dataset have any change in maximum ticket price."
   ]
  },
  {
   "cell_type": "markdown",
   "metadata": {},
   "source": []
  }
 ],
 "metadata": {
  "kernelspec": {
   "display_name": "Python 3",
   "language": "python",
   "name": "python3"
  },
  "language_info": {
   "codemirror_mode": {
    "name": "ipython",
    "version": 3
   },
   "file_extension": ".py",
   "mimetype": "text/x-python",
   "name": "python",
   "nbconvert_exporter": "python",
   "pygments_lexer": "ipython3",
   "version": "3.10.1"
  }
 },
 "nbformat": 4,
 "nbformat_minor": 2
}
