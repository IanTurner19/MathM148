{
 "cells": [
  {
   "cell_type": "code",
   "execution_count": 1,
   "metadata": {},
   "outputs": [],
   "source": [
    "import pandas as pd\n",
    "import matplotlib.pyplot as plt\n",
    "import folium\n",
    "from branca.colormap import LinearColormap"
   ]
  },
  {
   "cell_type": "code",
   "execution_count": 2,
   "metadata": {},
   "outputs": [
    {
     "data": {
      "text/plain": [
       "Index(['Unnamed: 0', 'MIN_PRICE', 'MAX_PRICE', 'CLASSIFICATION_GENRE',\n",
       "       'VENUE_LATITUDE', 'VENUE_LONGITUDE'],\n",
       "      dtype='object')"
      ]
     },
     "execution_count": 2,
     "metadata": {},
     "output_type": "execute_result"
    }
   ],
   "source": [
    "df = pd.read_csv(\"map_source.csv\")\n",
    "df.columns"
   ]
  },
  {
   "cell_type": "code",
   "execution_count": 3,
   "metadata": {},
   "outputs": [],
   "source": [
    "\n",
    "\n",
    "# Assuming your DataFrame is named 'df' with columns 'latitude', 'longitude', and 'price'\n",
    "\n",
    "# Create a map centered on the mean latitude and longitude of your data points\n",
    "m = folium.Map(location=[df['VENUE_LATITUDE'].mean(), df['VENUE_LONGITUDE'].mean()], zoom_start=6)\n",
    "\n",
    "# Create a color map\n",
    "quartile1 = df[\"MAX_PRICE\"].quantile(0.25)\n",
    "quartile3 = df[\"MAX_PRICE\"].quantile(0.75)\n",
    "iqr = quartile3 - quartile1\n",
    "lower_bound = quartile1 - iqr * 1.5\n",
    "upper_bound = quartile3 + iqr * 1.5\n",
    "no_outliers = df[\"MAX_PRICE\"][(df[\"MAX_PRICE\"] >= lower_bound) & (df[\"MAX_PRICE\"] <= upper_bound)]\n",
    "color_map = LinearColormap(colors=['green', 'yellow', 'red'], vmin=no_outliers.min(), vmax=no_outliers.max())\n",
    "\n",
    "# Add points to the map\n",
    "for idx, row in df.iterrows():\n",
    "    folium.CircleMarker(\n",
    "        location=[row['VENUE_LATITUDE'], row['VENUE_LONGITUDE']],\n",
    "        radius=5,\n",
    "        popup=f\"Price: {row['MAX_PRICE']}\",\n",
    "        color=color_map(row['MAX_PRICE']),\n",
    "        fill=True,\n",
    "        fillColor=color_map(row['MAX_PRICE']),\n",
    "        fillOpacity=0.7\n",
    "    ).add_to(m)\n",
    "\n",
    "# Add color map to the map\n",
    "color_map.add_to(m)\n",
    "\n",
    "# Save the map\n",
    "m.save(\"price_map.html\")\n"
   ]
  },
  {
   "cell_type": "code",
   "execution_count": 4,
   "metadata": {},
   "outputs": [
    {
     "data": {
      "text/plain": [
       "array(['World', 'Hip-Hop/Rap', 'Pop', 'Undefined', 'Religious', 'Other',\n",
       "       'Rock', 'Dance/Electronic', 'Alternative', 'Reggae', 'Metal',\n",
       "       'Country', 'R&B', 'Blues', 'Latin', 'Jazz', 'Folk', 'Classical',\n",
       "       \"Children's Music\", 'New Age'], dtype=object)"
      ]
     },
     "execution_count": 4,
     "metadata": {},
     "output_type": "execute_result"
    }
   ],
   "source": [
    "df[\"CLASSIFICATION_GENRE\"].unique()"
   ]
  },
  {
   "cell_type": "code",
   "execution_count": 7,
   "metadata": {},
   "outputs": [],
   "source": [
    "import random\n",
    "m_genre = folium.Map(location=[df['VENUE_LATITUDE'].mean(), df['VENUE_LONGITUDE'].mean()], zoom_start=6)\n",
    "# Generate a list of 20 distinct colors\n",
    "colors = ['#' + ''.join([random.choice('0123456789ABCDEF') for j in range(6)]) for i in range(20)]\n",
    "color_map = dict(zip(df[\"CLASSIFICATION_GENRE\"].unique(), colors))\n",
    "\n",
    "for idx, row in df.iterrows():\n",
    "    folium.CircleMarker(\n",
    "        location=[row['VENUE_LATITUDE'], row['VENUE_LONGITUDE']],\n",
    "        radius=5,\n",
    "        popup=f\"Genre: {row['CLASSIFICATION_GENRE']}\",\n",
    "        color=color_map[row['CLASSIFICATION_GENRE']],\n",
    "        fill=True,\n",
    "        fillColor=color_map[row['CLASSIFICATION_GENRE']],\n",
    "        fillOpacity=0.7\n",
    "    ).add_to(m_genre)\n",
    "\n",
    "# Create a legend\n",
    "legend_html = '''\n",
    "    <div style=\"position: fixed; bottom: 50px; left: 50px; width: 220px; height: 320px; \n",
    "    border:2px solid grey; z-index:9999; font-size:14px; overflow-y: auto;\n",
    "    background-color:white;\n",
    "    \">\n",
    "    <div style=\"position: relative; top: 5px; left: 5px;\">\n",
    "    <h4>Genre Legend</h4>\n",
    "    '''\n",
    "\n",
    "for genre, color in color_map.items():\n",
    "    legend_html += f'<p><span style=\"background-color:{color};opacity:0.7;margin-right:5px;\">&nbsp;&nbsp;&nbsp;&nbsp;</span>{genre}</p>'\n",
    "\n",
    "legend_html += '''\n",
    "    </div>\n",
    "    </div>\n",
    "    '''\n",
    "\n",
    "m_genre.get_root().html.add_child(folium.Element(legend_html))\n",
    "\n",
    "\n",
    "m_genre.save(\"genre_map.html\")"
   ]
  },
  {
   "cell_type": "code",
   "execution_count": null,
   "metadata": {},
   "outputs": [],
   "source": []
  }
 ],
 "metadata": {
  "kernelspec": {
   "display_name": "Python 3",
   "language": "python",
   "name": "python3"
  },
  "language_info": {
   "codemirror_mode": {
    "name": "ipython",
    "version": 3
   },
   "file_extension": ".py",
   "mimetype": "text/x-python",
   "name": "python",
   "nbconvert_exporter": "python",
   "pygments_lexer": "ipython3",
   "version": "3.10.1"
  }
 },
 "nbformat": 4,
 "nbformat_minor": 2
}
