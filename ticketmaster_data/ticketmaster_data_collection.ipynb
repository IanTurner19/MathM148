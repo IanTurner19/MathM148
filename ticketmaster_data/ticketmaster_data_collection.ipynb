{
 "cells": [
  {
   "cell_type": "code",
   "execution_count": 3,
   "id": "e85721be",
   "metadata": {},
   "outputs": [
    {
     "name": "stdout",
     "output_type": "stream",
     "text": [
      "Error: 400 {\"errors\":[{\"code\":\"DIS1035\",\"detail\":\"API Limits Exceeded: Max paging depth exceeded. (page * size) must be less than 1,000\",\"status\":\"400\",\"_links\":{\"about\":{\"href\":\"/discovery/v2/errors.html#DIS1035\"}}}]}\n"
     ]
    }
   ],
   "source": [
    "import requests\n",
    "from datetime import datetime, timedelta\n",
    "\n",
    "api_key = \"ljmJ6y8jH7XpdY1iJ68nADTczTfPhVDS\"\n",
    "\n",
    "# Generate start and end dates for the next 10 days\n",
    "start_date = datetime.now().strftime(\"%Y-%m-%dT%H:%M:%SZ\")\n",
    "end_date = (datetime.now() + timedelta(days=14)).strftime(\"%Y-%m-%dT%H:%M:%SZ\")\n",
    "\n",
    "# API request with U.S. filter, price filter, and 14-day range\n",
    "url = f\"https://app.ticketmaster.com/discovery/v2/events.json?classificationName=music&countryCode=US&startDateTime={start_date}&endDateTime={end_date}&apikey={api_key}\"\n",
    "url += \"&size=200&page=10\"\n",
    "\n",
    "response = requests.get(url)\n",
    "\n",
    "if response.status_code == 200:\n",
    "    data = response.json()\n",
    "    print(\"total events \", data[\"page\"][\"totalElements\"])\n",
    "    if \"_embedded\" in data:\n",
    "        print(f\"\\n=== Data Accessed At: {datetime.now().strftime('%Y-%m-%d %H:%M:%S')} ===\\n\")\n",
    "        print(\"how many events in page: \", len(data[\"_embedded\"][\"events\"]))\n",
    "        for event in data[\"_embedded\"][\"events\"]:\n",
    "            \n",
    "            # Filter: Only process events where priceRanges is available\n",
    "            if 'priceRanges' in event:\n",
    "                print(\"=== Event Details ===\")\n",
    "                print(f\"Event Name: {event['name']}\")\n",
    "                print(f\"Location: {event['_embedded']['venues'][0]['city']['name']}, {event['_embedded']['venues'][0]['state']['stateCode']}\")\n",
    "                print(f\"Event ID: {event['id']}\")\n",
    "                print(f\"Start Date: {event['dates']['start']['localDate']}\")\n",
    "\n",
    "                # Handle price ranges or single prices\n",
    "                for price in event['priceRanges']:\n",
    "                    min_price = price.get('min')\n",
    "                    max_price = price.get('max')\n",
    "                    currency = price.get('currency', 'Unknown')\n",
    "\n",
    "                    # Display single price or range\n",
    "                    if min_price and max_price and min_price != max_price:\n",
    "                        print(f\"Price Range: {min_price} {currency} - {max_price} {currency}\")\n",
    "                    else:\n",
    "                        single_price = min_price if min_price else max_price\n",
    "                        print(f\"Price: {single_price} {currency}\" if single_price else \"Price: Not available\")\n",
    "\n",
    "                # Ticket limit\n",
    "                ticket_limit = event.get('ticketLimit', {}).get('info', 'No limit info available')\n",
    "                print(f\"Ticket Limit: {ticket_limit}\")\n",
    "\n",
    "                # Classifications (genre, subgenre)\n",
    "                if 'classifications' in event:\n",
    "                    classification = event['classifications'][0]\n",
    "                    genre = classification.get('genre', {}).get('name', 'N/A')\n",
    "                    sub_genre = classification.get('subGenre', {}).get('name', 'N/A')\n",
    "                    event_type = classification.get('type', {}).get('name', 'N/A')\n",
    "                    print(f\"Genre: {genre}, Sub-Genre: {sub_genre}\")\n",
    "\n",
    "                # Venue information\n",
    "                venue = event['_embedded']['venues'][0]\n",
    "                print(\"\\n=== Venue Details ===\")\n",
    "                print(f\"Venue Name: {venue['name']}\")\n",
    "                print(f\"Venue ID: {venue['id']}\")\n",
    "                print(f\"Address: {venue['address'].get('line1', 'N/A')}\")\n",
    "                print(f\"City: {venue['city']['name']}\")\n",
    "                print(f\"State: {venue['state']['stateCode']}\")\n",
    "                \n",
    "                print(f\"Ticket URL: {event['url']}\\n\")\n",
    "    else:\n",
    "        print(\"No events found within the specified range.\")\n",
    "else:\n",
    "    print(\"Error:\", response.status_code, response.text)\n"
   ]
  },
  {
   "cell_type": "code",
   "execution_count": null,
   "id": "6e736351",
   "metadata": {},
   "outputs": [],
   "source": []
  }
 ],
 "metadata": {
  "kernelspec": {
   "display_name": "Python 3",
   "language": "python",
   "name": "python3"
  },
  "language_info": {
   "codemirror_mode": {
    "name": "ipython",
    "version": 3
   },
   "file_extension": ".py",
   "mimetype": "text/x-python",
   "name": "python",
   "nbconvert_exporter": "python",
   "pygments_lexer": "ipython3",
   "version": "3.10.1"
  }
 },
 "nbformat": 4,
 "nbformat_minor": 5
}
